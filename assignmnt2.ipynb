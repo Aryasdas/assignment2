{
 "cells": [
  {
   "cell_type": "code",
   "execution_count": 12,
   "id": "a45bcfc3-2967-4cc7-b648-4eb95bfd2ae7",
   "metadata": {},
   "outputs": [],
   "source": [
    "# Q1\n",
    "# def is used to create a function\n",
    "oddnum=[]\n",
    "def odd():\n",
    "    for i in range(0,26):\n",
    "        if i%2!=0:\n",
    "            oddnum.append(i)\n",
    "    print(oddnum) "
   ]
  },
  {
   "cell_type": "code",
   "execution_count": 13,
   "id": "e3ff473a-197d-45bb-9af6-a17af629c788",
   "metadata": {},
   "outputs": [
    {
     "name": "stdout",
     "output_type": "stream",
     "text": [
      "[1, 3, 5, 7, 9, 11, 13, 15, 17, 19, 21, 23, 25]\n"
     ]
    }
   ],
   "source": [
    "odd()"
   ]
  },
  {
   "cell_type": "code",
   "execution_count": 14,
   "id": "5bf2273d-6336-451d-ae77-54e61edbd5ba",
   "metadata": {},
   "outputs": [],
   "source": [
    "#Q2\n",
    "# We use *args and **kwargs as an argument when we are unsure about the number of arguments to pass in the functions.\n",
    "def args(*arya): \n",
    "# args specifies the number of non-keyworded arguments that can be passed and the operations that can be performed on the function in Python\n",
    "    return arya"
   ]
  },
  {
   "cell_type": "code",
   "execution_count": 15,
   "id": "53849b06-b0b8-4fec-8179-248d1fce1999",
   "metadata": {},
   "outputs": [
    {
     "data": {
      "text/plain": [
       "(5, 6, 8, 5, 6, 68, 6)"
      ]
     },
     "execution_count": 15,
     "metadata": {},
     "output_type": "execute_result"
    }
   ],
   "source": [
    "args(5,6,8,5,6,68,6)"
   ]
  },
  {
   "cell_type": "code",
   "execution_count": 17,
   "id": "bdeec667-ff54-49e7-9763-bae74cfd15bd",
   "metadata": {},
   "outputs": [],
   "source": [
    "def dictargs(**aryadict):\n",
    "# **kwargs is a variable number of keyworded arguments that can be passed to a function that can perform\n",
    "    return aryadict"
   ]
  },
  {
   "cell_type": "code",
   "execution_count": 18,
   "id": "2bf7e20e-81b9-49ae-aed6-4f98c676ddab",
   "metadata": {},
   "outputs": [
    {
     "data": {
      "text/plain": [
       "{'key1': 'xyz', 'key2': 'abc', 'key3': 'efg'}"
      ]
     },
     "execution_count": 18,
     "metadata": {},
     "output_type": "execute_result"
    }
   ],
   "source": [
    "dictargs(key1=\"xyz\",key2=\"abc\",key3=\"efg\")"
   ]
  },
  {
   "cell_type": "code",
   "execution_count": 19,
   "id": "1c51fae5-089f-4ca0-8359-7feb09650c70",
   "metadata": {},
   "outputs": [
    {
     "name": "stdout",
     "output_type": "stream",
     "text": [
      "2\n",
      "4\n",
      "6\n",
      "8\n",
      "10\n"
     ]
    }
   ],
   "source": [
    "#Q3\n",
    "#ANS--> iterators give one element at a time\n",
    "#ANS-->  iterator initialise by iter() and next() is used for iteration\n",
    "# EXAMPLE-\n",
    "s=\"Ashu\"\n",
    "a=iter(s)\n",
    " # Use these methods to print the first five elements of the given list [2, 4, 6, 8, 10, 12, 14, 16, 18, 20].\n",
    "# list = [2, 4, 6, 8, 10, 12, 14, 16, 18, 20]\n",
    "\n",
    "l2=[2,4,6,8,10,12,14,16,18,20]\n",
    "iterator=iter(l2)\n",
    "for i in range(5):\n",
    "    print(next(iterator))\n",
    "   "
   ]
  },
  {
   "cell_type": "code",
   "execution_count": 22,
   "id": "da96256c-cfd6-4bd4-8555-a008f3eac9b8",
   "metadata": {},
   "outputs": [],
   "source": [
    "# Q4,  generator is a function that returns an iterator that produces a sequence of values when iterated over.\n",
    "# the yield keyword will convert an expression that is specified along with it to a generator iterator, and return it to the caller.\n",
    "def genex():\n",
    "    for i in range(1,100):\n",
    "        yield i"
   ]
  },
  {
   "cell_type": "code",
   "execution_count": 23,
   "id": "93a4ca02-2089-4ec3-9954-aafe0e52db6e",
   "metadata": {},
   "outputs": [
    {
     "data": {
      "text/plain": [
       "<generator object genex at 0x7f450c098200>"
      ]
     },
     "execution_count": 23,
     "metadata": {},
     "output_type": "execute_result"
    }
   ],
   "source": [
    "genex()"
   ]
  },
  {
   "cell_type": "code",
   "execution_count": 24,
   "id": "630292e2-7d91-41f0-b616-300a942aa7f3",
   "metadata": {},
   "outputs": [],
   "source": [
    "# Q5\n",
    "def gen(n):\n",
    "    for i in range(2,n):\n",
    "        for j in range(2,i):\n",
    "            if (i%j)==0:\n",
    "                break\n",
    "        else:\n",
    "            yield i"
   ]
  },
  {
   "cell_type": "code",
   "execution_count": 25,
   "id": "031cfe03-90e8-4031-81b0-b395529eb8b9",
   "metadata": {},
   "outputs": [
    {
     "name": "stdout",
     "output_type": "stream",
     "text": [
      "2\n",
      "3\n",
      "5\n",
      "7\n",
      "11\n",
      "13\n",
      "17\n",
      "19\n",
      "23\n",
      "29\n",
      "31\n",
      "37\n",
      "41\n",
      "43\n",
      "47\n",
      "53\n",
      "59\n",
      "61\n",
      "67\n",
      "71\n"
     ]
    }
   ],
   "source": [
    "gen(1000)\n",
    "l2=gen(1000)\n",
    "for i in range(20):\n",
    "    print(next(l2))\n"
   ]
  },
  {
   "cell_type": "code",
   "execution_count": 26,
   "id": "073b359e-105a-487a-ac58-ba71e34edf73",
   "metadata": {},
   "outputs": [
    {
     "name": "stdout",
     "output_type": "stream",
     "text": [
      "0\n",
      "1\n",
      "1\n",
      "2\n",
      "3\n",
      "5\n",
      "8\n",
      "13\n",
      "21\n",
      "34\n"
     ]
    }
   ],
   "source": [
    "# Q6\n",
    "num=10\n",
    "counter=0\n",
    "a,b=0,1\n",
    "while counter<num:\n",
    "    print(a)\n",
    "    c=a+b\n",
    "    a=b\n",
    "    b=c\n",
    "    counter=counter+1"
   ]
  },
  {
   "cell_type": "code",
   "execution_count": 28,
   "id": "ee96bc54-a3bd-4200-b558-90e8d6da864e",
   "metadata": {},
   "outputs": [
    {
     "data": {
      "text/plain": [
       "['p', 'w', 's', 'k', 'i', 'l', 'l', 's']"
      ]
     },
     "execution_count": 28,
     "metadata": {},
     "output_type": "execute_result"
    }
   ],
   "source": [
    "#Q7\n",
    "a='pwskills'\n",
    "[i for i in a]"
   ]
  },
  {
   "cell_type": "code",
   "execution_count": 29,
   "id": "05895c0e-04fc-4d98-9dc2-15f88816acd4",
   "metadata": {},
   "outputs": [
    {
     "name": "stdin",
     "output_type": "stream",
     "text": [
      "ENTER your number  123\n"
     ]
    },
    {
     "name": "stdout",
     "output_type": "stream",
     "text": [
      "321\n",
      "number is not palindrome\n"
     ]
    }
   ],
   "source": [
    "#Q8\n",
    "num=int(input(\"ENTER your number \"))\n",
    "temp=num\n",
    "reverse=0\n",
    "while(num>0):\n",
    "         digit=num%10\n",
    "         reverse=reverse*10+digit\n",
    "         num=num//10\n",
    "print(reverse)\n",
    "if temp==reverse:\n",
    "    print(\"number is palindrome\")\n",
    "else:\n",
    "    print(\"number is not palindrome\")"
   ]
  },
  {
   "cell_type": "code",
   "execution_count": 30,
   "id": "21d5bc03-4d89-45d3-85c6-def35591a0f8",
   "metadata": {},
   "outputs": [],
   "source": [
    "#Q9\n",
    "l1=[i for i in range(1,100+1) if i%2!=0]\n"
   ]
  },
  {
   "cell_type": "code",
   "execution_count": 31,
   "id": "773a9153-4205-4d91-94a3-ea851cb4f0b9",
   "metadata": {},
   "outputs": [
    {
     "data": {
      "text/plain": [
       "[1,\n",
       " 3,\n",
       " 5,\n",
       " 7,\n",
       " 9,\n",
       " 11,\n",
       " 13,\n",
       " 15,\n",
       " 17,\n",
       " 19,\n",
       " 21,\n",
       " 23,\n",
       " 25,\n",
       " 27,\n",
       " 29,\n",
       " 31,\n",
       " 33,\n",
       " 35,\n",
       " 37,\n",
       " 39,\n",
       " 41,\n",
       " 43,\n",
       " 45,\n",
       " 47,\n",
       " 49,\n",
       " 51,\n",
       " 53,\n",
       " 55,\n",
       " 57,\n",
       " 59,\n",
       " 61,\n",
       " 63,\n",
       " 65,\n",
       " 67,\n",
       " 69,\n",
       " 71,\n",
       " 73,\n",
       " 75,\n",
       " 77,\n",
       " 79,\n",
       " 81,\n",
       " 83,\n",
       " 85,\n",
       " 87,\n",
       " 89,\n",
       " 91,\n",
       " 93,\n",
       " 95,\n",
       " 97,\n",
       " 99]"
      ]
     },
     "execution_count": 31,
     "metadata": {},
     "output_type": "execute_result"
    }
   ],
   "source": [
    "l1"
   ]
  },
  {
   "cell_type": "code",
   "execution_count": null,
   "id": "c92f4548-326b-44eb-a6c7-1edb3e7d9022",
   "metadata": {},
   "outputs": [],
   "source": []
  }
 ],
 "metadata": {
  "kernelspec": {
   "display_name": "Python 3 (ipykernel)",
   "language": "python",
   "name": "python3"
  },
  "language_info": {
   "codemirror_mode": {
    "name": "ipython",
    "version": 3
   },
   "file_extension": ".py",
   "mimetype": "text/x-python",
   "name": "python",
   "nbconvert_exporter": "python",
   "pygments_lexer": "ipython3",
   "version": "3.10.8"
  }
 },
 "nbformat": 4,
 "nbformat_minor": 5
}
